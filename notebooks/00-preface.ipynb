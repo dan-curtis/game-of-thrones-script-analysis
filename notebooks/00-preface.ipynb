{
 "cells": [
  {
   "cell_type": "markdown",
   "metadata": {},
   "source": [
    "## Preface\n",
    "So what am I actually doing here in this repo?  \n",
    "Well, it seems that I am a Data Scientist without portfolio, and that is something that needs to be rectified.  \n",
    "\n",
    "I saw an article on [towards data science](https://towardsdatascience.com/), (sadly I don't remember the specifics), where the author was doing some basic analysis on movie scripts, and thought that whilst this was a great idea, surely tv scripts would be far more interesting, so of course I went to [kaggle](https://www.kaggle.com/datasets) to look for some script datasets.\n",
    "\n",
    "One of the first datasets I came across was [Game of Thrones Script All Seasons](https://www.kaggle.com/datasets/albenft/game-of-thrones-script-all-seasons) by Alben Tumanggor, which itself is an extension of [Game of Thrones: series scripts breakdowns](https://www.kaggle.com/datasets/anderfj/game-of-thrones-series-scripts-breakdowns) by Ander Fernández Jauregui. Both of these datasets are scraped from transcribed tv episodes found on [genius.com](https://genius.com/artists/Game-of-thrones).\n",
    "\n",
    "Here came the issues.\n",
    "\n",
    "Now, whilst I am currently employed as a data scientist, I was previously a SQL developer, and previous to that an analyst, and I couldn't help but find some issues with the completeness of the data.\n",
    "1. Firstly, a cardinal sin for me, there is no primary key\n",
    "1. No way of tracing back location of the dialogue within an episode\n",
    "1. No breaks between scenes\n",
    "1. Nothing but dialogue was kept, so no actions and scene change details\n",
    "1. Inconsistent names: even in the first scene Waymar Royce is referred to as both \"Waymar Royce\" and just \"Royce\"\n",
    "\n",
    "So before I can even start to think about analysis, I'm going to have to rescrape this dataset.\n",
    "\n",
    "Brace yourself for some out of date memes...\n",
    "\n",
    "![winter is coming](image\\winter-is-coming.png)"
   ]
  }
 ],
 "metadata": {
  "language_info": {
   "name": "python"
  },
  "orig_nbformat": 4
 },
 "nbformat": 4,
 "nbformat_minor": 2
}
